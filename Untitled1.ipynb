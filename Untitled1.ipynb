{
 "cells": [
  {
   "cell_type": "code",
   "execution_count": 1,
   "id": "1ac3708a-e1aa-49b7-bcc0-32da52fb181d",
   "metadata": {},
   "outputs": [
    {
     "name": "stdout",
     "output_type": "stream",
     "text": [
      "Writing myapp.py\n"
     ]
    }
   ],
   "source": [
    "%%writefile myapp.py\n",
    "import streamlit as st\n",
    "\n",
    "def main():\n",
    "    st.title(\"👋 Welcome to Streamlit!\")\n",
    "\n",
    "    st.write(\"\"\"\n",
    "        If you’d like to receive helpful onboarding emails, news, offers, promotions,\n",
    "        and the occasional swag, please enter your email address below. Otherwise,\n",
    "        leave this field blank.\n",
    "    \"\"\")\n",
    "    \n",
    "    # Create a form for email input\n",
    "    with st.form(\"email_input_form\"):\n",
    "        email = st.text_input(\"Email:\")\n",
    "        \n",
    "        # Every form must have a submit button.\n",
    "        submitted = st.form_submit_button(\"Submit\")\n",
    "        if submitted:\n",
    "            if email:\n",
    "                st.success(f\"Thank you! You've subscribed successfully with email: {email}\")\n",
    "            else:\n",
    "                st.info(\"You've chosen not to enter an email. Feel free to continue exploring the app!\")\n",
    "\n",
    "if __name__ == \"__main__\":\n",
    "    main()\n"
   ]
  },
  {
   "cell_type": "code",
   "execution_count": null,
   "id": "538d7d3a-b050-419a-8baa-cfe19b80b2f6",
   "metadata": {},
   "outputs": [
    {
     "name": "stdout",
     "output_type": "stream",
     "text": [
      "\n",
      "      👋 \u001b[1mWelcome to Streamlit!\u001b[0m\n",
      "\n",
      "      If you’d like to receive helpful onboarding emails, news, offers, promotions,\n",
      "      and the occasional swag, please enter your email address below. Otherwise,\n",
      "      leave this field blank.\n",
      "\n",
      "      \u001b[34mEmail: \u001b[0m "
     ]
    }
   ],
   "source": [
    "!streamlit run myapp.py\n"
   ]
  },
  {
   "cell_type": "code",
   "execution_count": null,
   "id": "25b0900e-b3a2-4c9d-9938-8a92b0f3354e",
   "metadata": {},
   "outputs": [],
   "source": [
    "!pip install streamlit"
   ]
  },
  {
   "cell_type": "code",
   "execution_count": null,
   "id": "3cba8608-f331-4be0-88c2-33c60b33b6be",
   "metadata": {},
   "outputs": [],
   "source": []
  }
 ],
 "metadata": {
  "kernelspec": {
   "display_name": "Python 3 (ipykernel)",
   "language": "python",
   "name": "python3"
  },
  "language_info": {
   "codemirror_mode": {
    "name": "ipython",
    "version": 3
   },
   "file_extension": ".py",
   "mimetype": "text/x-python",
   "name": "python",
   "nbconvert_exporter": "python",
   "pygments_lexer": "ipython3",
   "version": "3.9.18"
  }
 },
 "nbformat": 4,
 "nbformat_minor": 5
}
