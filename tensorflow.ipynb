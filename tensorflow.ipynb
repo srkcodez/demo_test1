{
 "cells": [
  {
   "cell_type": "code",
   "execution_count": 2,
   "id": "e87e298f-62c2-4c92-8d50-db3c732309a6",
   "metadata": {},
   "outputs": [
    {
     "name": "stdout",
     "output_type": "stream",
     "text": [
      "Defaulting to user installation because normal site-packages is not writeable\n",
      "Requirement already satisfied: intel-extension-for-tensorflow[cpu] in /usr/local/lib64/python3.9/site-packages (2.15.0.0)\n",
      "Requirement already satisfied: absl-py==1.4.0 in /usr/local/lib/python3.9/site-packages (from intel-extension-for-tensorflow[cpu]) (1.4.0)\n",
      "Requirement already satisfied: tensorflow~=2.15.0 in /usr/local/lib64/python3.9/site-packages (from intel-extension-for-tensorflow[cpu]) (2.15.1)\n",
      "Requirement already satisfied: numpy>=1.24.0 in /usr/local/lib64/python3.9/site-packages (from intel-extension-for-tensorflow[cpu]) (1.26.4)\n",
      "Requirement already satisfied: wheel in /usr/local/lib/python3.9/site-packages (from intel-extension-for-tensorflow[cpu]) (0.43.0)\n",
      "Requirement already satisfied: grpcio>=1.8.6 in /usr/local/lib64/python3.9/site-packages (from intel-extension-for-tensorflow[cpu]) (1.63.0)\n",
      "Requirement already satisfied: protobuf<4.24 in /usr/local/lib64/python3.9/site-packages (from intel-extension-for-tensorflow[cpu]) (4.23.4)\n",
      "Requirement already satisfied: intel-extension-for-tensorflow-lib==2.15.0.0.0; extra == \"cpu\" in /usr/local/lib64/python3.9/site-packages (from intel-extension-for-tensorflow[cpu]) (2.15.0.0.0)\n",
      "Requirement already satisfied: tensorflow-io-gcs-filesystem>=0.23.1 in /usr/local/lib64/python3.9/site-packages (from tensorflow~=2.15.0->intel-extension-for-tensorflow[cpu]) (0.37.0)\n",
      "Requirement already satisfied: keras<2.16,>=2.15.0 in /usr/local/lib/python3.9/site-packages (from tensorflow~=2.15.0->intel-extension-for-tensorflow[cpu]) (2.15.0)\n",
      "Requirement already satisfied: gast!=0.5.0,!=0.5.1,!=0.5.2,>=0.2.1 in /usr/local/lib/python3.9/site-packages (from tensorflow~=2.15.0->intel-extension-for-tensorflow[cpu]) (0.5.4)\n",
      "Requirement already satisfied: wrapt<1.15,>=1.11.0 in /usr/local/lib64/python3.9/site-packages (from tensorflow~=2.15.0->intel-extension-for-tensorflow[cpu]) (1.14.1)\n",
      "Requirement already satisfied: tensorboard<2.16,>=2.15 in /usr/local/lib/python3.9/site-packages (from tensorflow~=2.15.0->intel-extension-for-tensorflow[cpu]) (2.15.2)\n",
      "Requirement already satisfied: packaging in /usr/local/lib/python3.9/site-packages (from tensorflow~=2.15.0->intel-extension-for-tensorflow[cpu]) (24.0)\n",
      "Requirement already satisfied: flatbuffers>=23.5.26 in /usr/local/lib/python3.9/site-packages (from tensorflow~=2.15.0->intel-extension-for-tensorflow[cpu]) (24.3.25)\n",
      "Requirement already satisfied: termcolor>=1.1.0 in /usr/local/lib/python3.9/site-packages (from tensorflow~=2.15.0->intel-extension-for-tensorflow[cpu]) (2.4.0)\n",
      "Requirement already satisfied: libclang>=13.0.0 in /usr/local/lib/python3.9/site-packages (from tensorflow~=2.15.0->intel-extension-for-tensorflow[cpu]) (18.1.1)\n",
      "Requirement already satisfied: six>=1.12.0 in /usr/lib/python3.9/site-packages (from tensorflow~=2.15.0->intel-extension-for-tensorflow[cpu]) (1.15.0)\n",
      "Requirement already satisfied: ml-dtypes~=0.3.1 in /usr/local/lib64/python3.9/site-packages (from tensorflow~=2.15.0->intel-extension-for-tensorflow[cpu]) (0.3.2)\n",
      "Requirement already satisfied: tensorflow-estimator<2.16,>=2.15.0 in /usr/local/lib/python3.9/site-packages (from tensorflow~=2.15.0->intel-extension-for-tensorflow[cpu]) (2.15.0)\n",
      "Requirement already satisfied: setuptools in /usr/lib/python3.9/site-packages (from tensorflow~=2.15.0->intel-extension-for-tensorflow[cpu]) (50.3.2)\n",
      "Requirement already satisfied: typing-extensions>=3.6.6 in /usr/local/lib/python3.9/site-packages (from tensorflow~=2.15.0->intel-extension-for-tensorflow[cpu]) (4.11.0)\n",
      "Requirement already satisfied: h5py>=2.9.0 in /usr/local/lib64/python3.9/site-packages (from tensorflow~=2.15.0->intel-extension-for-tensorflow[cpu]) (3.11.0)\n",
      "Requirement already satisfied: opt-einsum>=2.3.2 in /usr/local/lib/python3.9/site-packages (from tensorflow~=2.15.0->intel-extension-for-tensorflow[cpu]) (3.3.0)\n",
      "Requirement already satisfied: google-pasta>=0.1.1 in /usr/local/lib/python3.9/site-packages (from tensorflow~=2.15.0->intel-extension-for-tensorflow[cpu]) (0.2.0)\n",
      "Requirement already satisfied: astunparse>=1.6.0 in /usr/local/lib/python3.9/site-packages (from tensorflow~=2.15.0->intel-extension-for-tensorflow[cpu]) (1.6.3)\n",
      "Requirement already satisfied: requests<3,>=2.21.0 in /usr/local/lib/python3.9/site-packages (from tensorboard<2.16,>=2.15->tensorflow~=2.15.0->intel-extension-for-tensorflow[cpu]) (2.31.0)\n",
      "Requirement already satisfied: markdown>=2.6.8 in /usr/local/lib/python3.9/site-packages (from tensorboard<2.16,>=2.15->tensorflow~=2.15.0->intel-extension-for-tensorflow[cpu]) (3.6)\n",
      "Requirement already satisfied: google-auth-oauthlib<2,>=0.5 in /usr/local/lib/python3.9/site-packages (from tensorboard<2.16,>=2.15->tensorflow~=2.15.0->intel-extension-for-tensorflow[cpu]) (1.2.0)\n",
      "Requirement already satisfied: tensorboard-data-server<0.8.0,>=0.7.0 in /usr/local/lib/python3.9/site-packages (from tensorboard<2.16,>=2.15->tensorflow~=2.15.0->intel-extension-for-tensorflow[cpu]) (0.7.2)\n",
      "Requirement already satisfied: google-auth<3,>=1.6.3 in /usr/local/lib/python3.9/site-packages (from tensorboard<2.16,>=2.15->tensorflow~=2.15.0->intel-extension-for-tensorflow[cpu]) (2.29.0)\n",
      "Requirement already satisfied: werkzeug>=1.0.1 in /usr/local/lib/python3.9/site-packages (from tensorboard<2.16,>=2.15->tensorflow~=2.15.0->intel-extension-for-tensorflow[cpu]) (3.0.3)\n",
      "Requirement already satisfied: charset-normalizer<4,>=2 in /usr/local/lib64/python3.9/site-packages (from requests<3,>=2.21.0->tensorboard<2.16,>=2.15->tensorflow~=2.15.0->intel-extension-for-tensorflow[cpu]) (3.3.2)\n",
      "Requirement already satisfied: urllib3<3,>=1.21.1 in /usr/local/lib/python3.9/site-packages (from requests<3,>=2.21.0->tensorboard<2.16,>=2.15->tensorflow~=2.15.0->intel-extension-for-tensorflow[cpu]) (2.2.1)\n",
      "Requirement already satisfied: certifi>=2017.4.17 in /usr/local/lib/python3.9/site-packages (from requests<3,>=2.21.0->tensorboard<2.16,>=2.15->tensorflow~=2.15.0->intel-extension-for-tensorflow[cpu]) (2024.2.2)\n",
      "Requirement already satisfied: idna<4,>=2.5 in /usr/lib/python3.9/site-packages (from requests<3,>=2.21.0->tensorboard<2.16,>=2.15->tensorflow~=2.15.0->intel-extension-for-tensorflow[cpu]) (2.10)\n",
      "Requirement already satisfied: importlib-metadata>=4.4; python_version < \"3.10\" in /usr/local/lib/python3.9/site-packages (from markdown>=2.6.8->tensorboard<2.16,>=2.15->tensorflow~=2.15.0->intel-extension-for-tensorflow[cpu]) (7.1.0)\n",
      "Requirement already satisfied: requests-oauthlib>=0.7.0 in /usr/local/lib/python3.9/site-packages (from google-auth-oauthlib<2,>=0.5->tensorboard<2.16,>=2.15->tensorflow~=2.15.0->intel-extension-for-tensorflow[cpu]) (2.0.0)\n",
      "Requirement already satisfied: cachetools<6.0,>=2.0.0 in /usr/local/lib/python3.9/site-packages (from google-auth<3,>=1.6.3->tensorboard<2.16,>=2.15->tensorflow~=2.15.0->intel-extension-for-tensorflow[cpu]) (5.3.3)\n",
      "Requirement already satisfied: pyasn1-modules>=0.2.1 in /usr/local/lib/python3.9/site-packages (from google-auth<3,>=1.6.3->tensorboard<2.16,>=2.15->tensorflow~=2.15.0->intel-extension-for-tensorflow[cpu]) (0.4.0)\n",
      "Requirement already satisfied: rsa<5,>=3.1.4 in /usr/local/lib/python3.9/site-packages (from google-auth<3,>=1.6.3->tensorboard<2.16,>=2.15->tensorflow~=2.15.0->intel-extension-for-tensorflow[cpu]) (4.9)\n",
      "Requirement already satisfied: MarkupSafe>=2.1.1 in /usr/local/lib64/python3.9/site-packages (from werkzeug>=1.0.1->tensorboard<2.16,>=2.15->tensorflow~=2.15.0->intel-extension-for-tensorflow[cpu]) (2.1.5)\n",
      "Requirement already satisfied: zipp>=0.5 in /usr/local/lib/python3.9/site-packages (from importlib-metadata>=4.4; python_version < \"3.10\"->markdown>=2.6.8->tensorboard<2.16,>=2.15->tensorflow~=2.15.0->intel-extension-for-tensorflow[cpu]) (3.18.1)\n",
      "Requirement already satisfied: oauthlib>=3.0.0 in /usr/local/lib/python3.9/site-packages (from requests-oauthlib>=0.7.0->google-auth-oauthlib<2,>=0.5->tensorboard<2.16,>=2.15->tensorflow~=2.15.0->intel-extension-for-tensorflow[cpu]) (3.2.2)\n",
      "Requirement already satisfied: pyasn1<0.7.0,>=0.4.6 in /usr/local/lib/python3.9/site-packages (from pyasn1-modules>=0.2.1->google-auth<3,>=1.6.3->tensorboard<2.16,>=2.15->tensorflow~=2.15.0->intel-extension-for-tensorflow[cpu]) (0.6.0)\n"
     ]
    }
   ],
   "source": [
    "!pip3.9 install intel-extension-for-tensorflow[cpu]"
   ]
  },
  {
   "cell_type": "code",
   "execution_count": 4,
   "id": "47e7c076-526f-41c3-87b3-ff04ec40e08b",
   "metadata": {},
   "outputs": [
    {
     "name": "stderr",
     "output_type": "stream",
     "text": [
      "2024-05-09 17:07:22.473877: I tensorflow/core/util/port.cc:113] oneDNN custom operations are on. You may see slightly different numerical results due to floating-point round-off errors from different computation orders. To turn them off, set the environment variable `TF_ENABLE_ONEDNN_OPTS=0`.\n",
      "2024-05-09 17:07:22.476195: I external/local_tsl/tsl/cuda/cudart_stub.cc:31] Could not find cuda drivers on your machine, GPU will not be used.\n",
      "2024-05-09 17:07:22.508755: E external/local_xla/xla/stream_executor/cuda/cuda_dnn.cc:9261] Unable to register cuDNN factory: Attempting to register factory for plugin cuDNN when one has already been registered\n",
      "2024-05-09 17:07:22.508778: E external/local_xla/xla/stream_executor/cuda/cuda_fft.cc:607] Unable to register cuFFT factory: Attempting to register factory for plugin cuFFT when one has already been registered\n",
      "2024-05-09 17:07:22.509668: E external/local_xla/xla/stream_executor/cuda/cuda_blas.cc:1515] Unable to register cuBLAS factory: Attempting to register factory for plugin cuBLAS when one has already been registered\n",
      "2024-05-09 17:07:22.514787: I external/local_tsl/tsl/cuda/cudart_stub.cc:31] Could not find cuda drivers on your machine, GPU will not be used.\n",
      "2024-05-09 17:07:22.515253: I tensorflow/core/platform/cpu_feature_guard.cc:182] This TensorFlow binary is optimized to use available CPU instructions in performance-critical operations.\n",
      "To enable the following instructions: AVX2 AVX512F AVX512_VNNI FMA, in other operations, rebuild TensorFlow with the appropriate compiler flags.\n",
      "2024-05-09 17:07:23.176856: W tensorflow/compiler/tf2tensorrt/utils/py_utils.cc:38] TF-TRT Warning: Could not find TensorRT\n",
      "2024-05-09 17:07:23.634578: I itex/core/wrapper/itex_cpu_wrapper.cc:60] Intel Extension for Tensorflow* AVX512 CPU backend is loaded.\n"
     ]
    }
   ],
   "source": [
    "import tensorflow as tf"
   ]
  },
  {
   "cell_type": "raw",
   "id": "79ded727-b603-4569-b4d0-0099b10daeae",
   "metadata": {},
   "source": []
  },
  {
   "cell_type": "code",
   "execution_count": 10,
   "id": "26bebed1-9677-4a08-a7dd-c9852ac6522b",
   "metadata": {},
   "outputs": [
    {
     "data": {
      "image/png": "[encoded data removed]",
      "text/plain": [
       "<Figure size 640x480 with 1 Axes>"
      ]
     },
     "metadata": {},
     "output_type": "display_data"
    }
   ],
   "source": [
    "import numpy as np\n",
    "import matplotlib.pyplot as plt\n",
    "x= np.linspace(-10,10,100)\n",
    "z= 1/(1+np.exp(-x))\n",
    "z1= tf.keras.activations.sigmoid(x)\n",
    "op = np.where(z1>0.05,1,0)#sigmoid\n",
    "op2 =x *(x>0)#relu\n",
    "op3 =np.exp(x)/np.sum(np.exp(x))#relu\n",
    "\n",
    "\n",
    "\n",
    "plt.plot(x,z)\n",
    "plt.plot(x,z1)\n",
    "plt.scatter(x,op,c='g',s=12)\n",
    "plt.scatter(x,op2,c='r',s=12)\n",
    "plt.scatter(x,op3,c='b',s=12)\n",
    "\n",
    "plt.show()"
   ]
  },
  {
   "cell_type": "code",
   "execution_count": 13,
   "id": "e8b5fafa-09ee-4dde-8664-17d74653bd82",
   "metadata": {},
   "outputs": [
    {
     "name": "stdout",
     "output_type": "stream",
     "text": [
      "\u001b[0m\n",
      "\u001b[34m\u001b[1m  You can now view your Streamlit app in your browser.\u001b[0m\n",
      "\u001b[0m\n",
      "\u001b[34m  Local URL: \u001b[0m\u001b[1mhttp://localhost:8505\u001b[0m\n",
      "\u001b[34m  Network URL: \u001b[0m\u001b[1mhttp://172.21.49.52:8505\u001b[0m\n",
      "\u001b[0m\n",
      "^C\n",
      "\u001b[34m  Stopping...\u001b[0m\n"
     ]
    }
   ],
   "source": [
    "!streamlit run app.py"
   ]
  },
  {
   "cell_type": "code",
   "execution_count": null,
   "id": "99504dfa-c11f-45a0-a14f-d2ad1093088f",
   "metadata": {},
   "outputs": [],
   "source": []
  }
 ],
 "metadata": {
  "kernelspec": {
   "display_name": "Python 3 (ipykernel)",
   "language": "python",
   "name": "python3"
  },
  "language_info": {
   "codemirror_mode": {
    "name": "ipython",
    "version": 3
   },
   "file_extension": ".py",
   "mimetype": "text/x-python",
   "name": "python",
   "nbconvert_exporter": "python",
   "pygments_lexer": "ipython3",
   "version": "3.9.18"
  }
 },
 "nbformat": 4,
 "nbformat_minor": 5
}
