{
 "cells": [
  {
   "cell_type": "code",
   "execution_count": 2,
   "id": "1e38ef53-6bc5-4bcf-bdf1-cf277cbe9854",
   "metadata": {},
   "outputs": [],
   "source": [
    "from sklearn.datasets import fetch_openml"
   ]
  },
  {
   "cell_type": "code",
   "execution_count": 5,
   "id": "9d397102-0f0d-400b-88f9-ded45922055d",
   "metadata": {},
   "outputs": [],
   "source": [
    "# Fetch the dataset using OpenML's dataset name \"a9a\"\n",
    "x, y = fetch_openml(name=\"a9a\", version=1, return_X_y=True)\n",
    "\n"
   ]
  },
  {
   "cell_type": "code",
   "execution_count": 9,
   "id": "bee67d90-6f37-4b0a-aa1b-12962a56a159",
   "metadata": {},
   "outputs": [],
   "source": [
    "from sklearn.model_selection import train_test_split\n",
    "import numpy as np\n",
    "\n",
    "\n",
    "x_train, x_test, y_train, y_test = train_test_split(x, y, test_size=0.25, random_state=42)\n",
    "\n"
   ]
  },
  {
   "cell_type": "code",
   "execution_count": 6,
   "id": "c9bb2aa6-76e0-46af-a676-9ada09209d45",
   "metadata": {},
   "outputs": [
    {
     "name": "stderr",
     "output_type": "stream",
     "text": [
      "Intel(R) Extension for Scikit-learn* enabled (https://github.com/intel/scikit-learn-intelex)\n"
     ]
    }
   ],
   "source": [
    "from sklearnex import patch_sklearn\n",
    "patch_sklearn()"
   ]
  },
  {
   "cell_type": "code",
   "execution_count": 7,
   "id": "7a6d7443-99c5-4423-94d0-2842e19fd506",
   "metadata": {},
   "outputs": [
    {
     "ename": "SyntaxError",
     "evalue": "invalid syntax (273848042.py, line 2)",
     "output_type": "error",
     "traceback": [
      "\u001b[0;36m  Cell \u001b[0;32mIn[7], line 2\u001b[0;36m\u001b[0m\n\u001b[0;31m    params ={ \"kernel\":\"rbf\", \"C\"=\"100\",\"gamma\"=\"scale\" }\u001b[0m\n\u001b[0m                                 ^\u001b[0m\n\u001b[0;31mSyntaxError\u001b[0m\u001b[0;31m:\u001b[0m invalid syntax\n"
     ]
    }
   ],
   "source": [
    "from sklearn.svm import SVC\n",
    "params ={ \"kernel\":\"rbf\", \"C\"=\"100\",\"gamma\"=\"scale\" }\n",
    "start - timer()\n",
    "classifier = SVC(**params).fit(x_train,y_train)\n",
    "train_patched= timer().START\n",
    "F\"Intel extension for Scilit-learn time:{train_patched:.2f}s\""
   ]
  },
  {
   "cell_type": "code",
   "execution_count": 10,
   "id": "37292296-6595-4575-be48-6b8144d43537",
   "metadata": {},
   "outputs": [
    {
     "name": "stdout",
     "output_type": "stream",
     "text": [
      "Intel extension for Scikit-learn time: 83.24 s\n"
     ]
    }
   ],
   "source": [
    "from sklearn.svm import SVC\n",
    "from timeit import default_timer as timer\n",
    "\n",
    "# Define the parameters for the SVC\n",
    "params = {\"kernel\": \"rbf\", \"C\": 100, \"gamma\": \"scale\"}\n",
    "\n",
    "# Start the timer\n",
    "start = timer()\n",
    "\n",
    "# Create and train the SVC classifier\n",
    "classifier = SVC(**params).fit(x_train, y_train)\n",
    "\n",
    "# Stop the timer and calculate the elapsed time\n",
    "train_patched = timer() - start\n",
    "\n",
    "# Print the training time\n",
    "print(f\"Intel extension for Scikit-learn time: {train_patched:.2f} s\")"
   ]
  },
  {
   "cell_type": "code",
   "execution_count": 12,
   "id": "37917bf1-19a2-4de9-a602-636e9c0affcf",
   "metadata": {},
   "outputs": [
    {
     "name": "stdout",
     "output_type": "stream",
     "text": [
      "Intel extension for Scikit-learn time: 2.21 s\n"
     ]
    }
   ],
   "source": [
    "from sklearn.svm import SVC\n",
    "from timeit import default_timer as timer\n",
    "\n",
    "# Start the timer\n",
    "start = timer()\n",
    "\n",
    "# Create an instance of the SVC classifier with default parameters\n",
    "classifier = SVC()\n",
    "\n",
    "# Train the classifier with your training data\n",
    "classifier.fit(x_train, y_train)\n",
    "\n",
    "# Stop the timer and calculate the elapsed time\n",
    "train_patched = timer() - start\n",
    "\n",
    "# Print the training time\n",
    "print(f\"Intel extension for Scikit-learn time: {train_patched:.2f} s\")\n"
   ]
  },
  {
   "cell_type": "code",
   "execution_count": null,
   "id": "83cb7639-9a48-4606-8dad-9b84d3c6a05f",
   "metadata": {},
   "outputs": [],
   "source": [
    "from sklearn.svm import SVC\n",
    "from timeit import default_timer as timer\n",
    "\n",
    "# Define the parameters for the SVC\n",
    "params = {\"kernel\": \"rbf\", \"C\": 100, \"gamma\": \"scale\"}\n",
    "\n",
    "# Start the timer\n",
    "start = timer()\n",
    "\n",
    "# Create an instance of the SVC classifier with specified parameters\n",
    "classifier = SVC(**params)\n",
    "\n",
    "# Train the classifier with your training data\n",
    "classifier.fit(x_train, y_train)\n",
    "\n",
    "# Stop the timer and calculate the elapsed time\n",
    "train_patched = timer() - start\n",
    "\n",
    "# Print the training time\n",
    "print(f\"Intel extension for Scikit-learn time: {train_patched:.2f} s\")\n"
   ]
  }
 ],
 "metadata": {
  "kernelspec": {
   "display_name": "Python 3 (ipykernel)",
   "language": "python",
   "name": "python3"
  },
  "language_info": {
   "codemirror_mode": {
    "name": "ipython",
    "version": 3
   },
   "file_extension": ".py",
   "mimetype": "text/x-python",
   "name": "python",
   "nbconvert_exporter": "python",
   "pygments_lexer": "ipython3",
   "version": "3.9.18"
  }
 },
 "nbformat": 4,
 "nbformat_minor": 5
}
