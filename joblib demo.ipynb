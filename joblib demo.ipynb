{
 "cells": [
  {
   "cell_type": "code",
   "execution_count": 1,
   "id": "b56a0059-500d-4071-8137-e1ba462db57a",
   "metadata": {},
   "outputs": [],
   "source": [
    "import joblib"
   ]
  },
  {
   "cell_type": "code",
   "execution_count": 2,
   "id": "552dcb84-404b-477a-a514-796a6ac40da2",
   "metadata": {},
   "outputs": [],
   "source": [
    "model = joblib.load('spam-model')"
   ]
  },
  {
   "cell_type": "code",
   "execution_count": 3,
   "id": "3ec7f59a-e404-40a1-8436-4f9184079719",
   "metadata": {},
   "outputs": [
    {
     "data": {
      "text/plain": [
       "array(['spam'], dtype='<U4')"
      ]
     },
     "execution_count": 3,
     "metadata": {},
     "output_type": "execute_result"
    }
   ],
   "source": [
    "model.predict(['win free tickets'])"
   ]
  },
  {
   "cell_type": "code",
   "execution_count": 4,
   "id": "54326234-636d-49ef-82a6-d08f1cd37144",
   "metadata": {},
   "outputs": [],
   "source": [
    "import pickle"
   ]
  },
  {
   "cell_type": "code",
   "execution_count": 5,
   "id": "0a8f2943-348e-4d3d-baa6-2c496a0b550c",
   "metadata": {},
   "outputs": [],
   "source": [
    "model2= pickle.load(open('spam-model1.pkl','rb'))"
   ]
  },
  {
   "cell_type": "code",
   "execution_count": 6,
   "id": "42aa3a3f-ba7c-4ae9-b813-75a4d02f0bd4",
   "metadata": {},
   "outputs": [
    {
     "data": {
      "text/plain": [
       "array(['spam'], dtype='<U4')"
      ]
     },
     "execution_count": 6,
     "metadata": {},
     "output_type": "execute_result"
    }
   ],
   "source": [
    "model2.predict(['win free'])"
   ]
  },
  {
   "cell_type": "code",
   "execution_count": null,
   "id": "c5c8c893-c468-44e7-83ab-20e73e2452f1",
   "metadata": {},
   "outputs": [],
   "source": []
  }
 ],
 "metadata": {
  "kernelspec": {
   "display_name": "Python 3 (ipykernel)",
   "language": "python",
   "name": "python3"
  },
  "language_info": {
   "codemirror_mode": {
    "name": "ipython",
    "version": 3
   },
   "file_extension": ".py",
   "mimetype": "text/x-python",
   "name": "python",
   "nbconvert_exporter": "python",
   "pygments_lexer": "ipython3",
   "version": "3.9.18"
  }
 },
 "nbformat": 4,
 "nbformat_minor": 5
}
