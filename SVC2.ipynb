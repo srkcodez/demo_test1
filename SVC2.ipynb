{
 "cells": [
  {
   "cell_type": "code",
   "execution_count": 1,
   "id": "1e38ef53-6bc5-4bcf-bdf1-cf277cbe9854",
   "metadata": {},
   "outputs": [],
   "source": [
    "from sklearn.datasets import fetch_openml"
   ]
  },
  {
   "cell_type": "code",
   "execution_count": 2,
   "id": "9d397102-0f0d-400b-88f9-ded45922055d",
   "metadata": {},
   "outputs": [],
   "source": [
    "# Fetch the dataset using OpenML's dataset name \"a9a\"\n",
    "x, y = fetch_openml(name=\"a9a\", version=1, return_X_y=True)"
   ]
  },
  {
   "cell_type": "code",
   "execution_count": 3,
   "id": "bee67d90-6f37-4b0a-aa1b-12962a56a159",
   "metadata": {},
   "outputs": [],
   "source": [
    "from sklearn.model_selection import train_test_split\n",
    "import numpy as np\n",
    "x_train, x_test, y_train, y_test = train_test_split(x, y, test_size=0.25, random_state=42)"
   ]
  },
  {
   "cell_type": "code",
   "execution_count": 4,
   "id": "83cb7639-9a48-4606-8dad-9b84d3c6a05f",
   "metadata": {},
   "outputs": [
    {
     "name": "stdout",
     "output_type": "stream",
     "text": [
      "Intel extension for Scikit-learn time: 674.52 s\n"
     ]
    }
   ],
   "source": [
    "from sklearn.svm import SVC\n",
    "from timeit import default_timer as timer\n",
    "\n",
    "# Define the parameters for the SVC\n",
    "params = {\"kernel\": \"rbf\", \"C\": 100, \"gamma\": \"scale\"}\n",
    "\n",
    "# Start the timer\n",
    "start = timer()\n",
    "\n",
    "# Create an instance of the SVC classifier with specified parameters\n",
    "classifier = SVC(**params)\n",
    "\n",
    "# Train the classifier with your training data\n",
    "classifier.fit(x_train, y_train)\n",
    "\n",
    "# Stop the timer and calculate the elapsed time\n",
    "train_patched = timer() - start\n",
    "\n",
    "# Print the training time\n",
    "print(f\"Intel extension for Scikit-learn time: {train_patched:.2f} s\")"
   ]
  },
  {
   "cell_type": "code",
   "execution_count": 5,
   "id": "00ed219e-5499-4480-997a-a820d9124312",
   "metadata": {},
   "outputs": [
    {
     "name": "stdout",
     "output_type": "stream",
     "text": [
      "Accuracy: 0.82\n",
      "Confusion Matrix:\n",
      "[[8300  948]\n",
      " [1246 1717]]\n",
      "Classification Report:\n",
      "              precision    recall  f1-score   support\n",
      "\n",
      "        -1.0       0.87      0.90      0.88      9248\n",
      "         1.0       0.64      0.58      0.61      2963\n",
      "\n",
      "    accuracy                           0.82     12211\n",
      "   macro avg       0.76      0.74      0.75     12211\n",
      "weighted avg       0.81      0.82      0.82     12211\n",
      "\n"
     ]
    }
   ],
   "source": [
    "from sklearn.metrics import accuracy_score, confusion_matrix, classification_report\n",
    "# Predict the labels of the test set\n",
    "y_pred = classifier.predict(x_test)\n",
    "\n",
    "# Calculate and print the accuracy of the model\n",
    "accuracy = accuracy_score(y_test, y_pred)\n",
    "print(f\"Accuracy: {accuracy:.2f}\")\n",
    "\n",
    "# Generate and display the confusion matrix\n",
    "conf_matrix = confusion_matrix(y_test, y_pred)\n",
    "print(\"Confusion Matrix:\")\n",
    "print(conf_matrix)\n",
    "\n",
    "# Detailed classification report\n",
    "class_report = classification_report(y_test, y_pred)\n",
    "print(\"Classification Report:\")\n",
    "print(class_report)"
   ]
  },
  {
   "cell_type": "code",
   "execution_count": null,
   "id": "bb2f950a-0c17-4628-bde3-8503f86d609d",
   "metadata": {},
   "outputs": [],
   "source": []
  }
 ],
 "metadata": {
  "kernelspec": {
   "display_name": "Python 3 (ipykernel)",
   "language": "python",
   "name": "python3"
  },
  "language_info": {
   "codemirror_mode": {
    "name": "ipython",
    "version": 3
   },
   "file_extension": ".py",
   "mimetype": "text/x-python",
   "name": "python",
   "nbconvert_exporter": "python",
   "pygments_lexer": "ipython3",
   "version": "3.9.18"
  }
 },
 "nbformat": 4,
 "nbformat_minor": 5
}
